{
 "cells": [
  {
   "cell_type": "code",
   "execution_count": 6,
   "id": "0a749a6a-68fe-498b-9ed1-542af8017f1d",
   "metadata": {},
   "outputs": [
    {
     "name": "stdout",
     "output_type": "stream",
     "text": [
      "http://swrc.ontoware.org/ontology#abstract\n",
      "http://swrc.ontoware.org/ontology#address\n",
      "http://swrc.ontoware.org/ontology#affiliation\n",
      "http://swrc.ontoware.org/ontology#author\n",
      "http://swrc.ontoware.org/ontology#booktitle\n",
      "http://swrc.ontoware.org/ontology#carriedOutBy\n",
      "http://swrc.ontoware.org/ontology#carriesOut\n",
      "http://swrc.ontoware.org/ontology#chapter\n",
      "http://swrc.ontoware.org/ontology#dealtWithIn\n",
      "http://swrc.ontoware.org/ontology#edition\n",
      "http://swrc.ontoware.org/ontology#editor\n",
      "http://swrc.ontoware.org/ontology#employs\n",
      "http://swrc.ontoware.org/ontology#fax\n",
      "http://swrc.ontoware.org/ontology#financedBy\n",
      "http://swrc.ontoware.org/ontology#finances\n",
      "http://swrc.ontoware.org/ontology#hasProject\n",
      "http://swrc.ontoware.org/ontology#head\n",
      "http://swrc.ontoware.org/ontology#homepage\n",
      "http://swrc.ontoware.org/ontology#howpublished\n",
      "http://swrc.ontoware.org/ontology#isAbout\n",
      "http://swrc.ontoware.org/ontology#isWorkedOnBy\n",
      "http://swrc.ontoware.org/ontology#isbn\n",
      "http://swrc.ontoware.org/ontology#journal\n",
      "http://swrc.ontoware.org/ontology#member\n",
      "http://swrc.ontoware.org/ontology#month\n",
      "http://swrc.ontoware.org/ontology#name\n",
      "http://swrc.ontoware.org/ontology#note\n",
      "http://swrc.ontoware.org/ontology#number\n",
      "http://swrc.ontoware.org/ontology#pages\n",
      "http://swrc.ontoware.org/ontology#phone\n",
      "http://swrc.ontoware.org/ontology#photo\n",
      "http://swrc.ontoware.org/ontology#projectInfo\n",
      "http://swrc.ontoware.org/ontology#publication\n",
      "http://swrc.ontoware.org/ontology#publishes\n",
      "http://swrc.ontoware.org/ontology#series\n",
      "http://swrc.ontoware.org/ontology#title\n",
      "http://swrc.ontoware.org/ontology#type\n",
      "http://swrc.ontoware.org/ontology#volume\n",
      "http://swrc.ontoware.org/ontology#worksAtProject\n",
      "http://swrc.ontoware.org/ontology#year\n",
      "http://www.aifb.uni-karlsruhe.de/WBS/dvr/owltools/merge/type\n",
      "http://www.w3.org/1999/02/22-rdf-syntax-ns#type\n",
      "http://www.w3.org/2000/01/rdf-schema#range\n",
      "http://www.w3.org/2000/01/rdf-schema#subClassOf\n",
      "http://www.w3.org/2002/07/owl#allValuesFrom\n",
      "http://www.w3.org/2002/07/owl#inverseOf\n",
      "http://www.w3.org/2002/07/owl#onProperty\n"
     ]
    }
   ],
   "source": [
    "from rdflib import Graph\n",
    "\n",
    "g = Graph()\n",
    "g.parse(\"C:/Users/patel/Downloads/XAI_MINI_PROJECT/data/AIFB/raw/aifb-hetero/aifbfixed_complete.n3\", format=\"n3\")\n",
    "\n",
    "# Get all unique predicates to infer used vocabularies\n",
    "predicates = set()\n",
    "for s, p, o in g:\n",
    "    predicates.add(p)\n",
    "\n",
    "for p in sorted(predicates):\n",
    "    print(p)\n",
    "\n"
   ]
  },
  {
   "cell_type": "code",
   "execution_count": 2,
   "id": "af460699-1f0e-4d87-9516-5bb52cf59d68",
   "metadata": {},
   "outputs": [
    {
     "name": "stdout",
     "output_type": "stream",
     "text": [
      "Graph has 29226 triples\n"
     ]
    }
   ],
   "source": [
    "print(f\"Graph has {len(g)} triples\")"
   ]
  },
  {
   "cell_type": "code",
   "execution_count": 8,
   "id": "415da894-e839-4fc9-b5a1-a5f670a5b6bd",
   "metadata": {},
   "outputs": [
    {
     "name": "stdout",
     "output_type": "stream",
     "text": [
      "(rdflib.term.URIRef('http://swrc.ontoware.org/ontology#publication'), rdflib.term.Literal('4163', datatype=rdflib.term.URIRef('http://www.w3.org/2001/XMLSchema#integer')))\n",
      "(rdflib.term.URIRef('http://www.w3.org/1999/02/22-rdf-syntax-ns#type'), rdflib.term.Literal('4124', datatype=rdflib.term.URIRef('http://www.w3.org/2001/XMLSchema#integer')))\n",
      "(rdflib.term.URIRef('http://swrc.ontoware.org/ontology#author'), rdflib.term.Literal('3986', datatype=rdflib.term.URIRef('http://www.w3.org/2001/XMLSchema#integer')))\n",
      "(rdflib.term.URIRef('http://swrc.ontoware.org/ontology#isAbout'), rdflib.term.Literal('2477', datatype=rdflib.term.URIRef('http://www.w3.org/2001/XMLSchema#integer')))\n",
      "(rdflib.term.URIRef('http://swrc.ontoware.org/ontology#publishes'), rdflib.term.Literal('1217', datatype=rdflib.term.URIRef('http://www.w3.org/2001/XMLSchema#integer')))\n",
      "(rdflib.term.URIRef('http://swrc.ontoware.org/ontology#hasProject'), rdflib.term.Literal('952', datatype=rdflib.term.URIRef('http://www.w3.org/2001/XMLSchema#integer')))\n",
      "(rdflib.term.URIRef('http://swrc.ontoware.org/ontology#projectInfo'), rdflib.term.Literal('952', datatype=rdflib.term.URIRef('http://www.w3.org/2001/XMLSchema#integer')))\n",
      "(rdflib.term.URIRef('http://swrc.ontoware.org/ontology#isWorkedOnBy'), rdflib.term.Literal('571', datatype=rdflib.term.URIRef('http://www.w3.org/2001/XMLSchema#integer')))\n",
      "(rdflib.term.URIRef('http://swrc.ontoware.org/ontology#dealtWithIn'), rdflib.term.Literal('357', datatype=rdflib.term.URIRef('http://www.w3.org/2001/XMLSchema#integer')))\n",
      "(rdflib.term.URIRef('http://swrc.ontoware.org/ontology#member'), rdflib.term.Literal('339', datatype=rdflib.term.URIRef('http://www.w3.org/2001/XMLSchema#integer')))\n"
     ]
    }
   ],
   "source": [
    "from rdflib.namespace import RDF\n",
    "\n",
    "query = \"\"\"\n",
    "SELECT ?p (COUNT(*) AS ?count) WHERE {\n",
    "  ?s ?p ?o .\n",
    "  FILTER isIRI(?o)\n",
    "}\n",
    "GROUP BY ?p\n",
    "ORDER BY DESC(?count)\n",
    "LIMIT 10\n",
    "\"\"\"\n",
    "\n",
    "# Run the query\n",
    "results = g.query(query)\n",
    "\n",
    "# Print results\n",
    "for row in results:\n",
    "    print(row)\n"
   ]
  },
  {
   "cell_type": "code",
   "execution_count": 3,
   "id": "4c4b6ca0-eb34-4b82-971b-697f1cdccca3",
   "metadata": {},
   "outputs": [
    {
     "name": "stdout",
     "output_type": "stream",
     "text": [
      "Total unique nodes: 8291\n"
     ]
    }
   ],
   "source": [
    "query = \"\"\"\n",
    "SELECT (COUNT(DISTINCT ?node) AS ?total_nodes)\n",
    "WHERE {\n",
    "  { ?node ?p ?o }\n",
    "  UNION\n",
    "  { ?s ?node ?o }\n",
    "  UNION\n",
    "  { ?s ?p ?node }\n",
    "}\n",
    "\"\"\"\n",
    "\n",
    "for row in g.query(query):\n",
    "    print(f\"Total unique nodes: {row.total_nodes}\")"
   ]
  },
  {
   "cell_type": "code",
   "execution_count": 4,
   "id": "016022cd-0a1a-40e0-98ff-b71d02e259b6",
   "metadata": {},
   "outputs": [
    {
     "name": "stdout",
     "output_type": "stream",
     "text": [
      "Total edges in the graph: 29226\n"
     ]
    }
   ],
   "source": [
    "query = \"\"\"\n",
    "SELECT (COUNT(*) AS ?total_edges)\n",
    "WHERE {\n",
    "  ?s ?p ?o .\n",
    "}\n",
    "\"\"\"\n",
    "\n",
    "for row in g.query(query):\n",
    "    print(f\"Total edges in the graph: {row.total_edges}\")"
   ]
  },
  {
   "cell_type": "code",
   "execution_count": 11,
   "id": "12afd2c1-9def-45f5-9058-71940a447e7c",
   "metadata": {},
   "outputs": [
    {
     "name": "stdout",
     "output_type": "stream",
     "text": [
      "http://swrc.ontoware.org/ontology#Publication → 1222\n",
      "http://swrc.ontoware.org/ontology#Person → 1045\n",
      "http://swrc.ontoware.org/ontology#InProceedings → 687\n",
      "http://swrc.ontoware.org/ontology#TechnicalReport → 169\n",
      "http://swrc.ontoware.org/ontology#Article → 161\n",
      "http://www.w3.org/2002/07/owl#Restriction → 152\n",
      "http://swrc.ontoware.org/ontology#ResearchTopic → 146\n",
      "http://swrc.ontoware.org/ontology#InCollection → 87\n",
      "http://swrc.ontoware.org/ontology#Project → 78\n",
      "http://swrc.ontoware.org/ontology#PhDStudent → 65\n",
      "http://www.w3.org/2002/07/owl#Class → 55\n",
      "http://swrc.ontoware.org/ontology#Misc → 51\n",
      "http://swrc.ontoware.org/ontology#Proceedings → 49\n",
      "http://www.w3.org/2002/07/owl#ObjectProperty → 42\n",
      "http://www.w3.org/2002/07/owl#DatatypeProperty → 31\n",
      "http://swrc.ontoware.org/ontology#Organization → 28\n",
      "http://swrc.ontoware.org/ontology#Book → 23\n",
      "http://swrc.ontoware.org/ontology#Lecturer → 6\n",
      "http://swrc.ontoware.org/ontology#Undergraduate → 6\n",
      "http://swrc.ontoware.org/ontology#ResearchGroup → 5\n",
      "http://swrc.ontoware.org/ontology#FullProfessor → 5\n",
      "http://swrc.ontoware.org/ontology#AssistantProfessor → 3\n",
      "http://swrc.ontoware.org/ontology#TechnicalStaff → 3\n",
      "http://swrc.ontoware.org/ontology#Graduate → 2\n",
      "http://www.w3.org/2002/07/owl#Ontology → 1\n",
      "http://swrc.ontoware.org/ontology#Manager → 1\n",
      "http://www.w3.org/2002/07/owl#Datatype → 1\n"
     ]
    }
   ],
   "source": [
    "query = \"\"\"\n",
    "SELECT ?type (COUNT(?s) AS ?count)\n",
    "WHERE {\n",
    "  ?s rdf:type ?type .\n",
    "}\n",
    "GROUP BY ?type\n",
    "ORDER BY DESC(?count)\n",
    "\"\"\"\n",
    "\n",
    "for row in g.query(query, initNs={\"rdf\": RDF}):\n",
    "    print(f\"{row.type} → {row['count']}\")\n",
    "\n"
   ]
  },
  {
   "cell_type": "code",
   "execution_count": 12,
   "id": "fc3d5306-c924-49ce-9a09-7df761283d20",
   "metadata": {},
   "outputs": [
    {
     "name": "stdout",
     "output_type": "stream",
     "text": [
      "http://swrc.ontoware.org/ontology#title\n",
      "http://swrc.ontoware.org/ontology#series\n",
      "http://swrc.ontoware.org/ontology#abstract\n",
      "http://swrc.ontoware.org/ontology#edition\n",
      "http://swrc.ontoware.org/ontology#month\n",
      "http://swrc.ontoware.org/ontology#name\n",
      "http://swrc.ontoware.org/ontology#phone\n",
      "http://swrc.ontoware.org/ontology#pages\n",
      "http://swrc.ontoware.org/ontology#year\n",
      "http://swrc.ontoware.org/ontology#journal\n",
      "http://swrc.ontoware.org/ontology#booktitle\n",
      "http://swrc.ontoware.org/ontology#photo\n",
      "http://swrc.ontoware.org/ontology#address\n",
      "http://swrc.ontoware.org/ontology#type\n",
      "http://swrc.ontoware.org/ontology#number\n",
      "http://swrc.ontoware.org/ontology#homepage\n",
      "http://swrc.ontoware.org/ontology#volume\n",
      "http://swrc.ontoware.org/ontology#fax\n",
      "http://www.aifb.uni-karlsruhe.de/WBS/dvr/owltools/merge/type\n",
      "http://swrc.ontoware.org/ontology#howpublished\n",
      "http://swrc.ontoware.org/ontology#note\n",
      "http://swrc.ontoware.org/ontology#chapter\n",
      "http://swrc.ontoware.org/ontology#isbn\n"
     ]
    }
   ],
   "source": [
    "q = \"\"\"\n",
    "SELECT DISTINCT ?predicate\n",
    "WHERE {\n",
    "  ?s ?predicate ?o .\n",
    "  FILTER(isLiteral(?o))\n",
    "}\n",
    "\"\"\"\n",
    "\n",
    "for row in g.query(q):\n",
    "    print(row.predicate)"
   ]
  },
  {
   "cell_type": "code",
   "execution_count": 14,
   "id": "460f28bf-0537-465a-a15e-2fc265d345f8",
   "metadata": {},
   "outputs": [
    {
     "name": "stdout",
     "output_type": "stream",
     "text": [
      "http://swrc.ontoware.org/ontology#publication → http://swrc.ontoware.org/ontology#Publication → 4163\n",
      "http://swrc.ontoware.org/ontology#author → http://swrc.ontoware.org/ontology#Person → 3986\n",
      "http://www.w3.org/1999/02/22-rdf-syntax-ns#type → http://www.w3.org/2002/07/owl#Class → 3842\n",
      "http://swrc.ontoware.org/ontology#isAbout → http://swrc.ontoware.org/ontology#ResearchTopic → 2477\n",
      "http://swrc.ontoware.org/ontology#publication → http://swrc.ontoware.org/ontology#InProceedings → 2274\n",
      "http://swrc.ontoware.org/ontology#publishes → http://swrc.ontoware.org/ontology#Publication → 1217\n",
      "http://swrc.ontoware.org/ontology#hasProject → http://swrc.ontoware.org/ontology#Project → 952\n",
      "http://swrc.ontoware.org/ontology#projectInfo → http://swrc.ontoware.org/ontology#Publication → 952\n",
      "http://swrc.ontoware.org/ontology#publishes → http://swrc.ontoware.org/ontology#InProceedings → 683\n",
      "http://swrc.ontoware.org/ontology#author → http://swrc.ontoware.org/ontology#PhDStudent → 677\n",
      "http://swrc.ontoware.org/ontology#publication → http://swrc.ontoware.org/ontology#TechnicalReport → 615\n",
      "http://swrc.ontoware.org/ontology#publication → http://swrc.ontoware.org/ontology#Article → 573\n",
      "http://swrc.ontoware.org/ontology#isWorkedOnBy → http://swrc.ontoware.org/ontology#Person → 571\n",
      "http://swrc.ontoware.org/ontology#projectInfo → http://swrc.ontoware.org/ontology#InProceedings → 571\n",
      "http://swrc.ontoware.org/ontology#author → http://swrc.ontoware.org/ontology#FullProfessor → 374\n",
      "http://swrc.ontoware.org/ontology#dealtWithIn → http://swrc.ontoware.org/ontology#Project → 357\n",
      "http://swrc.ontoware.org/ontology#member → http://swrc.ontoware.org/ontology#Person → 339\n",
      "http://swrc.ontoware.org/ontology#author → http://swrc.ontoware.org/ontology#AssistantProfessor → 273\n",
      "http://swrc.ontoware.org/ontology#publication → http://swrc.ontoware.org/ontology#InCollection → 268\n",
      "http://swrc.ontoware.org/ontology#isWorkedOnBy → http://swrc.ontoware.org/ontology#PhDStudent → 239\n",
      "http://swrc.ontoware.org/ontology#worksAtProject → http://swrc.ontoware.org/ontology#Project → 200\n",
      "http://swrc.ontoware.org/ontology#publication → http://swrc.ontoware.org/ontology#Proceedings → 196\n",
      "http://swrc.ontoware.org/ontology#editor → http://swrc.ontoware.org/ontology#Person → 190\n",
      "http://swrc.ontoware.org/ontology#member → http://swrc.ontoware.org/ontology#PhDStudent → 185\n",
      "http://swrc.ontoware.org/ontology#affiliation → http://swrc.ontoware.org/ontology#ResearchGroup → 178\n",
      "http://swrc.ontoware.org/ontology#publication → http://swrc.ontoware.org/ontology#Misc → 169\n",
      "http://swrc.ontoware.org/ontology#publishes → http://swrc.ontoware.org/ontology#TechnicalReport → 165\n",
      "http://swrc.ontoware.org/ontology#publishes → http://swrc.ontoware.org/ontology#Article → 159\n",
      "http://www.w3.org/2000/01/rdf-schema#subClassOf → http://www.w3.org/2002/07/owl#Restriction → 152\n",
      "http://swrc.ontoware.org/ontology#projectInfo → http://swrc.ontoware.org/ontology#TechnicalReport → 124\n",
      "http://swrc.ontoware.org/ontology#projectInfo → http://swrc.ontoware.org/ontology#Article → 96\n",
      "http://swrc.ontoware.org/ontology#publishes → http://swrc.ontoware.org/ontology#InCollection → 87\n",
      "http://www.w3.org/2002/07/owl#onProperty → http://www.w3.org/2002/07/owl#DatatypeProperty → 84\n",
      "http://www.w3.org/2002/07/owl#allValuesFrom → http://www.w3.org/2002/07/owl#Datatype → 84\n",
      "http://swrc.ontoware.org/ontology#carriedOutBy → http://swrc.ontoware.org/ontology#ResearchGroup → 79\n",
      "http://swrc.ontoware.org/ontology#carriesOut → http://swrc.ontoware.org/ontology#Project → 79\n",
      "http://www.w3.org/2002/07/owl#allValuesFrom → http://www.w3.org/2002/07/owl#Class → 68\n",
      "http://www.w3.org/2002/07/owl#onProperty → http://www.w3.org/2002/07/owl#ObjectProperty → 68\n",
      "http://swrc.ontoware.org/ontology#finances → http://swrc.ontoware.org/ontology#Project → 68\n",
      "http://swrc.ontoware.org/ontology#financedBy → http://swrc.ontoware.org/ontology#Organization → 65\n",
      "http://swrc.ontoware.org/ontology#projectInfo → http://swrc.ontoware.org/ontology#Misc → 59\n",
      "http://swrc.ontoware.org/ontology#publication → http://swrc.ontoware.org/ontology#Book → 59\n",
      "http://swrc.ontoware.org/ontology#member → http://swrc.ontoware.org/ontology#FullProfessor → 52\n",
      "http://swrc.ontoware.org/ontology#publishes → http://swrc.ontoware.org/ontology#Misc → 51\n",
      "http://swrc.ontoware.org/ontology#publishes → http://swrc.ontoware.org/ontology#Proceedings → 49\n",
      "http://swrc.ontoware.org/ontology#projectInfo → http://swrc.ontoware.org/ontology#Proceedings → 48\n",
      "http://www.w3.org/2000/01/rdf-schema#subClassOf → http://www.w3.org/2002/07/owl#Class → 47\n",
      "http://swrc.ontoware.org/ontology#projectInfo → http://swrc.ontoware.org/ontology#InCollection → 43\n",
      "http://swrc.ontoware.org/ontology#isWorkedOnBy → http://swrc.ontoware.org/ontology#FullProfessor → 34\n",
      "http://swrc.ontoware.org/ontology#isWorkedOnBy → http://swrc.ontoware.org/ontology#AssistantProfessor → 33\n",
      "http://swrc.ontoware.org/ontology#member → http://swrc.ontoware.org/ontology#AssistantProfessor → 31\n",
      "http://swrc.ontoware.org/ontology#author → http://swrc.ontoware.org/ontology#Lecturer → 30\n",
      "http://swrc.ontoware.org/ontology#editor → http://swrc.ontoware.org/ontology#AssistantProfessor → 24\n",
      "http://swrc.ontoware.org/ontology#publishes → http://swrc.ontoware.org/ontology#Book → 23\n",
      "http://swrc.ontoware.org/ontology#isWorkedOnBy → http://swrc.ontoware.org/ontology#Lecturer → 21\n",
      "http://swrc.ontoware.org/ontology#editor → http://swrc.ontoware.org/ontology#FullProfessor → 16\n",
      "http://swrc.ontoware.org/ontology#projectInfo → http://swrc.ontoware.org/ontology#Book → 11\n",
      "http://www.w3.org/2002/07/owl#inverseOf → http://www.w3.org/2002/07/owl#ObjectProperty → 10\n",
      "http://swrc.ontoware.org/ontology#editor → http://swrc.ontoware.org/ontology#PhDStudent → 7\n",
      "http://swrc.ontoware.org/ontology#member → http://swrc.ontoware.org/ontology#Lecturer → 6\n",
      "http://swrc.ontoware.org/ontology#head → http://swrc.ontoware.org/ontology#Person → 5\n",
      "http://swrc.ontoware.org/ontology#employs → http://swrc.ontoware.org/ontology#Person → 5\n",
      "http://swrc.ontoware.org/ontology#head → http://swrc.ontoware.org/ontology#FullProfessor → 5\n",
      "http://swrc.ontoware.org/ontology#member → http://swrc.ontoware.org/ontology#Graduate → 4\n",
      "http://swrc.ontoware.org/ontology#author → http://swrc.ontoware.org/ontology#Graduate → 4\n",
      "http://swrc.ontoware.org/ontology#isWorkedOnBy → http://swrc.ontoware.org/ontology#Graduate → 2\n",
      "http://www.w3.org/2000/01/rdf-schema#range → http://www.w3.org/2002/07/owl#Class → 1\n"
     ]
    }
   ],
   "source": [
    "query = \"\"\"\n",
    "PREFIX rdf: <http://www.w3.org/1999/02/22-rdf-syntax-ns#>\n",
    "\n",
    "SELECT ?predicate ?objectType (COUNT(*) AS ?count)\n",
    "WHERE {\n",
    "  ?s ?predicate ?o .\n",
    "  ?o rdf:type ?objectType .\n",
    "}\n",
    "GROUP BY ?predicate ?objectType\n",
    "ORDER BY DESC(?count)\n",
    "\"\"\"\n",
    "\n",
    "results = g.query(query)\n",
    "for row in results:\n",
    "    print(f\"{row.predicate} → {row.objectType} → {row['count']}\")\n",
    "\n"
   ]
  },
  {
   "cell_type": "code",
   "execution_count": null,
   "id": "b6f65a4b-d588-4788-a656-d8526900a77c",
   "metadata": {},
   "outputs": [],
   "source": []
  }
 ],
 "metadata": {
  "kernelspec": {
   "display_name": "Python (xai25-mini)",
   "language": "python",
   "name": "xai25-mini"
  },
  "language_info": {
   "codemirror_mode": {
    "name": "ipython",
    "version": 3
   },
   "file_extension": ".py",
   "mimetype": "text/x-python",
   "name": "python",
   "nbconvert_exporter": "python",
   "pygments_lexer": "ipython3",
   "version": "3.10.18"
  }
 },
 "nbformat": 4,
 "nbformat_minor": 5
}
